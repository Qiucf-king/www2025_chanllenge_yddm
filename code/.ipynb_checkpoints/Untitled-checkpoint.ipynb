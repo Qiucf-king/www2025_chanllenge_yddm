{
 "cells": [
  {
   "cell_type": "code",
   "execution_count": 1,
   "id": "3b575a04-a027-41ea-b22e-d30ce926bcc2",
   "metadata": {},
   "outputs": [
    {
     "name": "stderr",
     "output_type": "stream",
     "text": [
      "100%|██████████| 120/120 [02:57<00:00,  1.48s/it]\n"
     ]
    }
   ],
   "source": [
    "import os\n",
    "from tqdm import tqdm\n",
    "import pandas as pd\n",
    "\n",
    "path = '../../autodl-tmp/www2024/data_tmp/test'\n",
    "file_lst = os.listdir(path)\n",
    "for file in tqdm(file_lst):\n",
    "    try:\n",
    "        df_ = pd.read_pickle('{}/{}'.format(path, file))\n",
    "    except:\n",
    "        print(file)"
   ]
  },
  {
   "cell_type": "code",
   "execution_count": null,
   "id": "a974e98a-a716-46f0-8e9f-5874a5eef0d4",
   "metadata": {},
   "outputs": [],
   "source": []
  }
 ],
 "metadata": {
  "kernelspec": {
   "display_name": "Python 3 (ipykernel)",
   "language": "python",
   "name": "python3"
  },
  "language_info": {
   "codemirror_mode": {
    "name": "ipython",
    "version": 3
   },
   "file_extension": ".py",
   "mimetype": "text/x-python",
   "name": "python",
   "nbconvert_exporter": "python",
   "pygments_lexer": "ipython3",
   "version": "3.7.9"
  }
 },
 "nbformat": 4,
 "nbformat_minor": 5
}
